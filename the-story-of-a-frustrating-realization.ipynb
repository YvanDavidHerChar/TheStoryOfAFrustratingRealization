{
 "cells": [
  {
   "cell_type": "markdown",
   "metadata": {
    "_cell_guid": "b1076dfc-b9ad-4769-8c92-a6c4dae69d19",
    "_uuid": "8f2839f25d086af736a60e9eeb907d3b93b6e0e5"
   },
   "source": [
    "### Hello! My name is Yvan David Hernandez and I'm a student (undergraduate) participating in this challenge in the context of a graduate class. As I'm in finals, the lack of sleep, the stress and the obvious fact that this is at a level where I doubt my input will count a lot, you can assume I'll go for the composition component. \n",
    "\n",
    "#### I hope you enjoy the story"
   ]
  },
  {
   "cell_type": "code",
   "execution_count": null,
   "metadata": {
    "_cell_guid": "79c7e3d0-c299-4dcb-8224-4455121ee9b0",
    "_uuid": "d629ff2d2480ee46fbb7e2d37f6b5fab8052498a"
   },
   "outputs": [],
   "source": [
    "import pandas as pd\n",
    "import numpy as np \n",
    "import matplotlib.pyplot as plt\n",
    "\n",
    "from sklearn.preprocessing import MinMaxScaler\n",
    "from sklearn.cluster import KMeans\n",
    "from sklearn.datasets import make_blobs\n",
    "from sklearn.metrics import silhouette_samples, silhouette_score"
   ]
  },
  {
   "cell_type": "markdown",
   "metadata": {
    "_uuid": "85230eb65960cc27594c73a32ac96c8680edb035"
   },
   "source": [
    "It all started a rainy night in Bogota (Colombia). The cold, wet wind blows on the top floor of one downtown building. The big night moths go around one of the last windows with light. Behind the window inside the room is Code. Code is a group of data scientists who I won't give neither names nor gendres. We shall call them 1, 2, 3 and 4. They started to work on the survey results that Kaggle realized in 2018. "
   ]
  },
  {
   "cell_type": "code",
   "execution_count": null,
   "metadata": {
    "_uuid": "1b122e24df0faadc655a2e7db72dd79cfdd77159"
   },
   "outputs": [],
   "source": [
    "data = pd.read_csv('../input/multipleChoiceResponses.csv')"
   ]
  },
  {
   "cell_type": "code",
   "execution_count": null,
   "metadata": {
    "_uuid": "17247f726343e1da3c9ba8157dfb7932e2fbaed9"
   },
   "outputs": [],
   "source": [
    "data.head()"
   ]
  },
  {
   "cell_type": "markdown",
   "metadata": {
    "_uuid": "083f9e08b0d4b7d5c897d8381eba1944a4f4f0cb"
   },
   "source": [
    "After visualizing the data frame, 3 and 4 expressed their excitment while looking at the head. <br>\n",
    "\"We will have to change a lot about this data frame if we want to be able to go deep inside\" said 2. <br> \n",
    "While everybody was waiting for a dumb comment from 1, 4 started to think what should be taken out to be able to work. <br>\n",
    "\"Let's start\" he said, \"by taking away the time of completion, and let's work only on the multiple choice answers. For sure there's a lot in there.\""
   ]
  },
  {
   "cell_type": "code",
   "execution_count": null,
   "metadata": {
    "_uuid": "e4da145be155b38e5e90cf33c7fc0f20e77ec3b7"
   },
   "outputs": [],
   "source": [
    "data = data.drop(data.index[0])\n",
    "data = data.drop(data.columns[0], axis=1)\n",
    "data.head()"
   ]
  },
  {
   "cell_type": "markdown",
   "metadata": {
    "_uuid": "d5ecb7ea0c1b04fce00d5728e04f61a234afa205"
   },
   "source": [
    "\"By looking at the data we have to take in count that there is going to be open text answers\" said 1, at everyones surprises. <br>\n",
    "\"Ok\", said 4, \"let's take them down with a loop\". <br>\n",
    "\"We could do it through the heading of the columns\" said 3, \"like this!\""
   ]
  },
  {
   "cell_type": "code",
   "execution_count": null,
   "metadata": {
    "_uuid": "4172f0300c9abf45eb416c10d23d68759c9e5e5a"
   },
   "outputs": [],
   "source": [
    "titulos =data.columns.values"
   ]
  },
  {
   "cell_type": "code",
   "execution_count": null,
   "metadata": {
    "_uuid": "9eb93771c34f8bc18b0d890297c8c796a2a96059"
   },
   "outputs": [],
   "source": [
    "for i in range(len(titulos)):\n",
    "    string = titulos[i]\n",
    "    l = string[-1]\n",
    "    if (l!='1' and l!='2' and l!='3' and l!='4' and l!='5' and l!='6' and l!='7' and l!='8' and l!='9' and l!='0'):\n",
    "        data = data.drop(string, axis=1)\n",
    "        continue\n",
    "    #elif(data.loc[:,string].isna().any() == True):\n",
    "    #    print(string)\n",
    "    #    data = data.drop(string,axis=1)\n",
    "    else:\n",
    "        dummies = pd.get_dummies(data[string], prefix=string)\n",
    "        data = pd.concat([data, dummies], axis=1)\n",
    "        data = data.drop(string, axis=1)"
   ]
  },
  {
   "cell_type": "markdown",
   "metadata": {
    "_uuid": "08d38245906fe0119fa287da0d893026bcde7d41"
   },
   "source": [
    "\"Well done!!\" they all cheered\n",
    "![Cheersurl](https://media.giphy.com/media/BQAk13taTaKYw/giphy.gif)\n",
    "\"This for sure worked\" said 4. \"Let's check it out!\""
   ]
  },
  {
   "cell_type": "code",
   "execution_count": null,
   "metadata": {
    "_uuid": "90ff2173e87165321bea7066c77a550bfca016cf"
   },
   "outputs": [],
   "source": [
    "data.head()"
   ]
  },
  {
   "cell_type": "markdown",
   "metadata": {
    "_uuid": "2f282650dbb5287e03a7f3eacf60be884c4e9097"
   },
   "source": [
    "\"Nice work 3!\" said 4, \"Now we can work it by doing a PCA\" <br>\n",
    "\"But we should try to clusted it no?\" said 1 <br>\n",
    "\"If you want, go for it! What do you think 2?\" answered 4.<br>\n",
    "\"I'll work with 1 into the clustering\" responded 2."
   ]
  },
  {
   "cell_type": "markdown",
   "metadata": {
    "_uuid": "6ec32c86a27ef57fea8e6580210cbe7538d37ea8"
   },
   "source": [
    "### a) PCA"
   ]
  },
  {
   "cell_type": "markdown",
   "metadata": {
    "_uuid": "2bc00f5229440c164e97359bb23948e898c0ec22"
   },
   "source": [
    "3 and 4 started working but didn't do much until 3 mentioned Wiltmore's book called 'Introduction to Scientific and Techincal Computing' (2017) and more specifically it's tenth chapter. After reading it they started to doing it right."
   ]
  },
  {
   "cell_type": "code",
   "execution_count": null,
   "metadata": {
    "_uuid": "f10711a2bc1afa768b9bbc90147f589baf193bf1"
   },
   "outputs": [],
   "source": [
    "features = np.shape(data)[1]\n",
    "#Matriz de covarianza\n",
    "cov_matrix = np.array(data.cov())\n",
    "#Autovalores y autovectores\n",
    "val, vec = np.linalg.eig(cov_matrix)"
   ]
  },
  {
   "cell_type": "code",
   "execution_count": null,
   "metadata": {
    "_uuid": "a829685a68b914985f68829de4f7449e007a9c34"
   },
   "outputs": [],
   "source": [
    "#Ordena vec y val de mayor a menor\n",
    "vec = vec[:,val.argsort()[::-1]]\n",
    "val = val[val.argsort()[::-1]]"
   ]
  },
  {
   "cell_type": "code",
   "execution_count": null,
   "metadata": {
    "_uuid": "b449ce8c25522810135aca6ab4616d72eface388"
   },
   "outputs": [],
   "source": [
    "#Vectores, nuevo sistema coordenado\n",
    "vec1 = vec[:,0]\n",
    "vec2 = -vec[:,1]"
   ]
  },
  {
   "cell_type": "code",
   "execution_count": null,
   "metadata": {
    "_uuid": "094a2a4b82953f41f66b7e0ad0ee87e49376b8af"
   },
   "outputs": [],
   "source": [
    "#Varianza\n",
    "var = np.sum(data.var())"
   ]
  },
  {
   "cell_type": "code",
   "execution_count": null,
   "metadata": {
    "_uuid": "8ed3ca23c5a65c5d05ca89b043f817c6f309ecd7"
   },
   "outputs": [],
   "source": [
    "#Varianza por componente\n",
    "def var_comp(vec,data,comp):\n",
    "    return np.sum(data.dot(vec[:,comp])**2)/len(data)"
   ]
  },
  {
   "cell_type": "code",
   "execution_count": null,
   "metadata": {
    "_uuid": "6d2d4985c5bd6db5ba6ece32f01ce593c5332c75"
   },
   "outputs": [],
   "source": [
    "var_comps = []\n",
    "for i in range(features):\n",
    "    var_comps.append(var_comp(vec,data,i)/var)"
   ]
  },
  {
   "cell_type": "code",
   "execution_count": null,
   "metadata": {
    "_uuid": "cdbc6f40b7ce45a0ed2a8c6ef0b139bf487043f2"
   },
   "outputs": [],
   "source": [
    "fig = plt.figure(figsize=(15,5))\n",
    "plt.subplot(1,3,1)\n",
    "x = np.arange(features)\n",
    "plt.plot(x,var_comps)\n",
    "plt.xlabel('Principal Component')\n",
    "plt.ylabel('Prop. Variance Explained')\n",
    "plt.scatter(x,var_comps,facecolors=\"none\",edgecolors='blue')\n",
    "plt.title('Principal Component Analysis')\n",
    "\n",
    "plt.subplot(1,3,2)\n",
    "x = np.arange(features)\n",
    "plt.plot(x,var_comps)\n",
    "plt.xlim(0,5)\n",
    "plt.xlabel('Principal Component')\n",
    "plt.ylabel('Prop. Variance Explained')\n",
    "plt.scatter(x,var_comps,facecolors=\"none\",edgecolors='blue')\n",
    "plt.title('Zoom on the PCA')\n",
    "\n",
    "plt.subplot(1,3,3)\n",
    "cum_var = np.cumsum(np.array(var_comps))\n",
    "plt.plot(x,cum_var)\n",
    "plt.xlabel('Principal Component')\n",
    "plt.ylabel('Cumulative Prop. Variance Explained')\n",
    "plt.scatter(x,cum_var,facecolors=\"none\",edgecolors='blue')\n",
    "plt.title('Cumulative Variance')"
   ]
  },
  {
   "cell_type": "markdown",
   "metadata": {
    "_uuid": "26d6ff23b3bf208c1f9250cf4678bb9cad854d21"
   },
   "source": [
    "After working so hard, 3 and 4 were disapointed at their results.![DisapointingUrl](https://media.giphy.com/media/14iZJ2agTAAb6w/giphy.gif) They didn't got a clear view of the components that the data was made of, and couldn't get any conclusion, except that the optimal K would be probably 2. They did a cluster of it."
   ]
  },
  {
   "cell_type": "code",
   "execution_count": null,
   "metadata": {
    "_uuid": "28e0e8984b16dfc1dd8f4751bd4cf22f4b0e0aad"
   },
   "outputs": [],
   "source": [
    "cluster3 = KMeans(n_clusters=2, random_state=10)\n",
    "cluster_labels3 = cluster3.fit_predict(data)\n",
    "data['clusters'] = cluster_labels3"
   ]
  },
  {
   "cell_type": "code",
   "execution_count": null,
   "metadata": {
    "_uuid": "9b33790af0084f86123bff3c02fa4ca37b9654f6"
   },
   "outputs": [],
   "source": [
    "aplot=data[data.clusters==0].sum()[0:-2]\n",
    "result = aplot.sort_values(ascending=False)\n",
    "ma1= result[0:10]\n",
    "print('We can construct the first cluster that assembels the folowing features')\n",
    "print(ma1)\n",
    "aplot1=data[data.clusters==1].sum()[0:-2]\n",
    "result = aplot1.sort_values(ascending=False)\n",
    "ma2= result[0:10]\n",
    "print('We can construct visualize the 2nd cluster that assembels the folowing features')\n",
    "print(ma2)"
   ]
  },
  {
   "cell_type": "markdown",
   "metadata": {
    "_uuid": "a599849f9951d9a5dd9dea2c0e1180840ea9f83a"
   },
   "source": [
    "Even if it wasn't much, 3 and 4 could say with confidence that from the people that answered the survey, (a fair trait of the computer scientists of the world) are mostly males that have a high education (mostly master's degree) and that they like and use Python with scikit-learn and Matplotlib. Nevertheless, when they turned to tell 1 and 2 about it, they found them play rock paper scissors lizard spock. In that very second, the classic joke came to 4's mind but didn't want to help the joke mood. ![xkcd](https://i.redd.it/5cjdqxcg07k11.png)"
   ]
  },
  {
   "cell_type": "markdown",
   "metadata": {
    "_uuid": "52dd1f94a788a0cf6a7c662ac88ff6894b0bf419"
   },
   "source": [
    "\"Stop it\" said 4 after the 3rd round of RPSLS. <br>\n",
    "\"But why?\" <br>\n",
    "\"Because you aren't doing a thing! You're playing while we are working. Not cool\" <br>\n",
    "\"But we are working! It's running, but taking sooooo long!\" said 2 \"Check it out!\" <br>"
   ]
  },
  {
   "cell_type": "markdown",
   "metadata": {
    "_uuid": "c938325bcb0989fb574293097d9739f7ea1c589f"
   },
   "source": [
    "## b) Clustering\n",
    "\n",
    "For the realization of the clusters, 1 and 2 also read the chapter 10 in the same book. This with the objective of finding the best k to cluster on."
   ]
  },
  {
   "cell_type": "code",
   "execution_count": null,
   "metadata": {
    "_uuid": "a4aa2c68711da3f0f830e29b6a003d9fb92b583e"
   },
   "outputs": [],
   "source": [
    "#The following code takes a very huge while to run. I higly descourage to run it! To make it more clear even, I'll comment it!\n",
    "\n",
    "#range_n_clusters = np.arange(80,100)\n",
    "#score = []\n",
    "#for n_clusters in range_n_clusters:\n",
    "#    clusterer = KMeans(n_clusters=n_clusters, random_state=10)\n",
    "#    cluster_labels = clusterer.fit_predict(data)\n",
    "#    silhouette_avg = silhouette_score(data, cluster_labels)\n",
    "#    score.append(silhouette_avg)\n",
    "#    print(\"For n_clusters =\", n_clusters,\"The average silhouette_score is :\", silhouette_avg)\n",
    "#    \n",
    "#plt.plot(range_n_clusters,score)\n",
    "#plt.xlabel('K')\n",
    "#plt.ylabel('silhouette score')\n",
    "\n",
    "#The output, or partial output (didn't had the time to finish it) would be \n",
    "\n",
    "#('For n_clusters =', 80, 'The average silhouette_score is :', -0.057214161693202946)\n",
    "#('For n_clusters =', 81, 'The average silhouette_score is :', -0.055780258021949893)\n",
    "#('For n_clusters =', 82, 'The average silhouette_score is :', -0.057544768067351072)\n",
    "#('For n_clusters =', 83, 'The average silhouette_score is :', -0.058861850121202298)\n",
    "#('For n_clusters =', 84, 'The average silhouette_score is :', -0.05930968617258206)\n",
    "#('For n_clusters =', 85, 'The average silhouette_score is :', -0.057119735705425945)\n",
    "#('For n_clusters =', 86, 'The average silhouette_score is :', -0.057890150542789474)\n",
    "#('For n_clusters =', 87, 'The average silhouette_score is :', -0.059931949263046097)\n",
    "#('For n_clusters =', 88, 'The average silhouette_score is :', -0.057302577437669824)\n",
    "#('For n_clusters =', 89, 'The average silhouette_score is :', -0.055365256535527901)\n",
    "#('For n_clusters =', 90, 'The average silhouette_score is :', -0.055882421109439827)\n",
    "#('For n_clusters =', 91, 'The average silhouette_score is :', -0.057461071270653689)\n",
    "#('For n_clusters =', 92, 'The average silhouette_score is :', -0.056341328445298294)\n",
    "#('For n_clusters =', 93, 'The average silhouette_score is :', -0.06012728198878943)\n",
    "#('For n_clusters =', 94, 'The average silhouette_score is :', -0.059186392435306767)\n",
    "#('For n_clusters =', 95, 'The average silhouette_score is :', -0.057227079284224901)\n",
    "#('For n_clusters =', 96, 'The average silhouette_score is :', -0.058374450053829408)\n",
    "#('For n_clusters =', 97, 'The average silhouette_score is :', -0.05236556541252551)\n",
    "#('For n_clusters =', 98, 'The average silhouette_score is :', -0.056208036133553449)"
   ]
  },
  {
   "cell_type": "markdown",
   "metadata": {
    "_uuid": "c47c7068b74b235f7469b116fee8b98f84ce27b7"
   },
   "source": [
    "\"Check it out!\" said 1, \"This is the average silhouette score for diferent numbers of clusters. The one with the highest will be the optimal number of clusters to work our data set. \n"
   ]
  },
  {
   "cell_type": "markdown",
   "metadata": {
    "_uuid": "7007632cf1ce1c6fd28bda31de2d865b7c4d5678"
   },
   "source": [
    "Oh no! 1 and 3 couldn't finish running the full silhouette scores because the power went down. Nonetheless they realize that even if they are all negatives, the $k=97$ clusters has the highest score. So they tried it!!"
   ]
  },
  {
   "cell_type": "code",
   "execution_count": null,
   "metadata": {
    "_uuid": "8e9e4f41c551b18171f73dcaf204ceefe11811d3"
   },
   "outputs": [],
   "source": [
    "cluster2 = KMeans(n_clusters=97, random_state=10)\n",
    "cluster_labels2 = cluster2.fit_predict(data)\n",
    "data['clusters'] = cluster_labels2"
   ]
  },
  {
   "cell_type": "code",
   "execution_count": null,
   "metadata": {
    "_uuid": "41e9a3d617372ac28ad3957f49fc6891b2d88b3b"
   },
   "outputs": [],
   "source": [
    "aplot=data[data.clusters==0].sum()[0:-2]\n",
    "result = aplot.sort_values(ascending=False)\n",
    "ma1= result[0:10]\n",
    "print('We can construct the first cluster that assembels the folowing features')\n",
    "print(ma1)\n",
    "\n",
    "aplot1=data[data.clusters==1].sum()[0:-2]\n",
    "result = aplot1.sort_values(ascending=False)\n",
    "ma2= result[0:10]\n",
    "print('We can construct the cluster 2 that assembels the folowing features')\n",
    "print(ma2)\n",
    "\n",
    "aplot4=data[data.clusters==4].sum()[0:-2]\n",
    "result4 = aplot4.sort_values(ascending=False)\n",
    "ma4= result4[0:10]\n",
    "print('We can construct the cluster 5 that assembels the folowing features')\n",
    "print(ma4)\n",
    "\n",
    "aplot5=data[data.clusters==5].sum()[0:-2]\n",
    "result5 = aplot5.sort_values(ascending=False)\n",
    "ma5= result5[0:10]\n",
    "print('We can construct the cluster 6 that assembels the folowing features')\n",
    "print(ma5)\n",
    "\n",
    "aplot25=data[data.clusters==35].sum()[0:-2]\n",
    "result25 = aplot25.sort_values(ascending=False)\n",
    "ma25= result25[0:10]\n",
    "print('We can construct the cluster 36 that assembels the folowing features')\n",
    "print(ma25)\n",
    "\n",
    "aplot65=data[data.clusters==65].sum()[0:-2]\n",
    "result65 = aplot65.sort_values(ascending=False)\n",
    "ma65= result65[0:10]\n",
    "print('We can construct the cluster 66 that assembels the folowing features')\n",
    "print(ma65)\n",
    "\n",
    "aplot85=data[data.clusters==85].sum()[0:-2]\n",
    "result85 = aplot85.sort_values(ascending=False)\n",
    "ma85= result85[0:10]\n",
    "print('We can construct the cluster 86 that assembels the folowing features')\n",
    "print(ma85)\n"
   ]
  },
  {
   "cell_type": "markdown",
   "metadata": {
    "_uuid": "af123f94739c34a511cebfcd15a1457e26198bf2"
   },
   "source": [
    "\"From all of this info we can actually draw some conclusions on the comunity\" said 3"
   ]
  },
  {
   "cell_type": "markdown",
   "metadata": {
    "_uuid": "be4ef7fa1a037c7dcb1994a70ca277d8d38371a1"
   },
   "source": [
    "## Conclusions"
   ]
  },
  {
   "cell_type": "markdown",
   "metadata": {
    "_uuid": "bdf891de63b7c2905d37391d9869eb48a0da9dbf"
   },
   "source": [
    "Code drew the folowing conclusions from the diferent procedures they did upon the data. <br>\n",
    "The clustering in 2, made clear that there were two groups in the survey. The academics with bachelors, masters degree's in computer science that have been in data science for a small time (Question 8). And another larger group where these features are not dominant. Also, the male gender is very percistent and it's fair to asume a precense of female gender in both groups as there isn't a aglomeration of them. <br> The second group agrees in the priorities of education in ML (Question 41) as in the academia there isn't a clear component on the subject (they don't agree in those priorities).\n",
    "This only shows what everybody already knows, there are data scientists in and out of academia, they are most of them big time fans of Python. Nonetheless, it's outstanding and ridiculous the poor proportion of females in both of these domains. "
   ]
  },
  {
   "cell_type": "markdown",
   "metadata": {
    "_uuid": "42b8c4fe81d0be8e39386d90f119e6ec289e04f6"
   },
   "source": [
    "From the small clusters, there can be numerous conclusions. Here we will state a few of what can be deduced of them. The small clusters aglomerates people that represent the link between R and data visualization to do buisness decisions, but they are a small portion of the survey. We acknowledge the big presence of India, China and USA as they form diferent clusters. All of these clusters reflect the lack of female presence. "
   ]
  },
  {
   "cell_type": "markdown",
   "metadata": {
    "_uuid": "5a1760a0d13e39a0f49506b1d4f3653a3e365b9c"
   },
   "source": [
    "The final conclusion of this work is that even if the evolution and the dinamic of data science is clear, is terribly frustrating to see the poor porcentage of women and how even the comunity doesn't acknowledge (there is not one question about it). "
   ]
  },
  {
   "cell_type": "code",
   "execution_count": null,
   "metadata": {
    "_uuid": "de7b658830aa4d1ac955584aae67fd27b09604f0"
   },
   "outputs": [],
   "source": []
  }
 ],
 "metadata": {
  "kernelspec": {
   "display_name": "Python 3",
   "language": "python",
   "name": "python3"
  },
  "language_info": {
   "codemirror_mode": {
    "name": "ipython",
    "version": 3
   },
   "file_extension": ".py",
   "mimetype": "text/x-python",
   "name": "python",
   "nbconvert_exporter": "python",
   "pygments_lexer": "ipython3",
   "version": "3.8.3"
  }
 },
 "nbformat": 4,
 "nbformat_minor": 1
}
